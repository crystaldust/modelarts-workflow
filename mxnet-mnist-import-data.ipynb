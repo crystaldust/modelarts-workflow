{
 "cells": [
  {
   "cell_type": "markdown",
   "metadata": {},
   "source": [
    "### 第一步：从\"市场\"导入预置的数据集\n",
    "目前ModelArts SDK/API暂时不支持对\"市场\"的操作，在本地使用OBS SDK上传数据；或使用web console导入数据\n",
    "(ModelArts notebook中无法访问网络，只能通过web console操作导入数据)"
   ]
  },
  {
   "cell_type": "code",
   "execution_count": null,
   "metadata": {},
   "outputs": [],
   "source": [
    "print('Pretend that we import dataset from the market')"
   ]
  },
  {
   "cell_type": "markdown",
   "metadata": {},
   "source": [
    "### 第二部：上传训练代码\n",
    "将训练代码`train_mnist.py`上传到${BUCKET}/mnist/code/目录下"
   ]
  },
  {
   "cell_type": "code",
   "execution_count": null,
   "metadata": {},
   "outputs": [],
   "source": [
    "## 准备SDK\n",
    "!pip install esdk-obs-python"
   ]
  },
  {
   "cell_type": "code",
   "execution_count": null,
   "metadata": {},
   "outputs": [],
   "source": [
    "%env USER_ACCESS_KEY=\n",
    "%env USER_SECRET_ACCESS_KEY=\n",
    "%env PROJECT_ID="
   ]
  },
  {
   "cell_type": "code",
   "execution_count": null,
   "metadata": {},
   "outputs": [],
   "source": [
    "import os\n",
    "from obs import ObsClient\n",
    "\n",
    "AK=os.getenv('USER_ACCESS_KEY')\n",
    "SK=os.getenv('USER_SECRET_ACCESS_KEY')\n",
    "PROJECT_ID=os.getenv('PROJECT_ID')\n",
    "\n",
    "obs_endpoint=os.getenv('MINER_OBS_URL')\n",
    "if obs_endpoint is None:\n",
    "    obs_endpoint='obs.cn-north-1.myhuaweicloud.com'\n",
    "\n",
    "\n",
    "obsClient = ObsClient(\n",
    "    access_key_id=AK,\n",
    "    secret_access_key=SK,\n",
    "    server=obs_endpoint\n",
    ")"
   ]
  },
  {
   "cell_type": "code",
   "execution_count": null,
   "metadata": {},
   "outputs": [],
   "source": [
    "TARGET_BUCKET = 'ma-workflow'\n",
    "resp = obsClient.headBucket(TARGET_BUCKET)\n",
    "if resp.status == 404 and obsClient.createBucket(TARGET_BUCKET).status >= 300:\n",
    "    print(\"Failed to create bucket{}\".format(TARGET_BUCKET))\n"
   ]
  },
  {
   "cell_type": "code",
   "execution_count": null,
   "metadata": {},
   "outputs": [],
   "source": [
    "resp = obsClient.putFile(TARGET_BUCKET, 'mnist/code/train_mnist.py', file_path='./train_mnist.py')\n",
    "print(resp.body)\n",
    "if resp.status >= 300:\n",
    "    print('Failed to put file')  "
   ]
  },
  {
   "cell_type": "markdown",
   "metadata": {},
   "source": [
    "### 第三步：准备ModelArts SDK Client\n",
    "创建ModelArts SDK客户端，注意需要在HOME目录下配置.modelarts/config.json\n",
    "详情参见[初始化ModelArts SDK](https://support.huaweicloud.com/sdkreference-modelarts/modelarts_04_0006.html)\n",
    "注意：非企业用户account为空，只填username"
   ]
  },
  {
   "cell_type": "code",
   "execution_count": null,
   "metadata": {},
   "outputs": [],
   "source": [
    "from modelarts import config\n",
    "from modelarts.client.api import *\n",
    "from modelarts.client.rest import ApiException\n",
    "maClient = config.create_client(context='default')"
   ]
  },
  {
   "cell_type": "markdown",
   "metadata": {},
   "source": [
    "### 第四步：创建训练作业\n",
    "- 参考ModelArts SDK说明，body与本目录下training_job.json一致\n",
    "- 对于文档中参数说明不明确之处，在web console中创建训练任务并观察请求参数，request body保存在sample_training_job.json中\n",
    "- spec_id的获取参考文档 [查看作业资源规格](https://support.huaweicloud.com/sdkreference-modelarts/modelarts_04_0074.html)\n",
    "- engine_id的获取参考文档 [查看作业引擎规格](https://support.huaweicloud.com/sdkreference-modelarts/modelarts_04_0075.html)\n"
   ]
  },
  {
   "cell_type": "code",
   "execution_count": null,
   "metadata": {},
   "outputs": [],
   "source": [
    "# 注意事项xx_url应该是目录，必须以/结尾\n",
    "# engine_id=29: MXNet-1.2.1-python3.6\n",
    "# model_id优先级高于app_url & boot_file_url，若指定model_id则优先从已有模型中读取参数并进行训练\n",
    "import json\n",
    "training_job_body = {\n",
    "  \"job_name\": \"mxnet-mnist\",\n",
    "  \"job_desc\": \"mxnet-mnist with ModelArts SDK\",\n",
    "  \"config\": {\n",
    "    \"worker_server_num\": 1,\n",
    "#     \"model_id\": 3,\n",
    "    \"app_url\": \"/ma-workflow/mnist/code/\",\n",
    "    \"boot_file_url\": \"/ma-workflow/mnist/code/train_mnist.py\",\n",
    "    \"data_source\": [\n",
    "      {\n",
    "        \"type\": \"obs\",\n",
    "        \"data_url\": \"/ma-workflow/mnist/dataset/\"\n",
    "      }\n",
    "    ],\n",
    "    \"train_url\": \"/ma-workflow/mnist/output/\",\n",
    "    \"log_url\": \"/ma-workflow/mnist/log/\",\n",
    "    \"spec_id\": 2,\n",
    "    \"engine_id\": 29\n",
    "  }\n",
    "}\n",
    "\n",
    "trainJobApi = TrainJobApi(maClient)\n",
    "try:\n",
    "    training_job = trainJobApi.create_training_job(project_id=PROJECT_ID, body=training_job_body)\n",
    "    job_id = training_job.job_id\n",
    "    version_id = training_job.version_id\n",
    "except ApiException as e:\n",
    "    resp_obj = json.loads(e.body)\n",
    "    print(e)\n",
    "    if resp_obj['error_code'] == 'ModelArts.0103': # 重名，作业已存在，创建作业版本\n",
    "        # 当前SDK需要先列出job list，再按照job_name查找到job_id，才能创建作业版本\n",
    "        # 删除job也需要job_id\n",
    "        print(\"Let's createa job version, it's a pretty tough task for now, we'll do it later!\")\n",
    "        \n",
    "    \n",
    "        "
   ]
  },
  {
   "cell_type": "markdown",
   "metadata": {},
   "source": [
    "监听训练任务的状态"
   ]
  },
  {
   "cell_type": "code",
   "execution_count": null,
   "metadata": {},
   "outputs": [],
   "source": [
    "# info = trainJobApi.view_training_job(project_id=PROJECT_ID, job_id=job_id, version_id=version_id)\n",
    "# print(info)\n",
    "from time import sleep\n",
    "elapsed_seconds = 0\n",
    "TEN_MINUTES = 60 * 10  # Make it longer for computation consuming training jobs\n",
    "current_status = 0\n",
    "while True:\n",
    "    info = trainJobApi.view_training_job(project_id=PROJECT_ID, job_id=job_id, version_id=version_id)\n",
    "\n",
    "    if current_status == info.status:\n",
    "        sleep(5)\n",
    "        continue\n",
    "    else:\n",
    "        current_status = info.status\n",
    "    \n",
    "    print(info.status)\n",
    "    if info.status == 1:\n",
    "        print('Job {}@{} initializing'.format(job_id, version_id))  \n",
    "        \n",
    "    elif info.status == 8:\n",
    "        print('Job {}@{} running'.format(job_id, version_id))\n",
    "    elif info.status == 10:\n",
    "        print('Job {}@{} complete'.format(job_id, version_id))\n",
    "        break\n",
    "    elif info.status == 11:\n",
    "        print('Job {}@{} failed'.format(job_id, version_id))\n",
    "        print(info)\n",
    "        break\n",
    "        \n",
    "    sleep(5)\n",
    "    elapsed_seconds += 5\n",
    "    if elapsed_seconds >= TEN_MINUTES:\n",
    "        print('Job {}@{} timeout'.format(job_id, version_id))\n",
    "        break\n",
    "            "
   ]
  },
  {
   "cell_type": "markdown",
   "metadata": {},
   "source": [
    "### 第五步：导入模型\n",
    "上传config.json和customize_service.py到model目录下"
   ]
  },
  {
   "cell_type": "code",
   "execution_count": null,
   "metadata": {
    "scrolled": true
   },
   "outputs": [],
   "source": [
    "resp = obsClient.putFile(TARGET_BUCKET, 'mnist/output/model/config.json', file_path='./config.json')\n",
    "print('upload config.json for model:\\n{}\\n'.format(resp.body))\n",
    "if resp.status >= 300:\n",
    "    print('Failed to put file')  \n",
    "\n",
    "resp = obsClient.putFile(TARGET_BUCKET, 'mnist/output/model/customize_service.py', file_path='./customize_service.py')\n",
    "print('upload customize_service.py for model:\\n{}\\n'.format(resp.body))\n",
    "if resp.status >= 300:\n",
    "    print('Failed to put file')  \n",
    "    "
   ]
  },
  {
   "cell_type": "markdown",
   "metadata": {},
   "source": [
    "创建模型"
   ]
  },
  {
   "cell_type": "code",
   "execution_count": null,
   "metadata": {},
   "outputs": [],
   "source": [
    "modelApi = ModelApi(maClient)\n",
    "\n",
    "model_body = {\n",
    "  \"model_name\": \"mxnet-mnist-model\",\n",
    "  \"model_version\": \"0.0.1\",\n",
    "#   source_location到model目录上一层即可\n",
    "  \"source_location\": \"https://ma-workflow.obs.cn-north-1.myhwclouds.com/mnist/output\",\n",
    "#   注释掉的参数为必填，但是从配置文件中读取\n",
    "  \"model_type\": \"MXNet\",\n",
    "  \"model_algorithm\": \"image_classification\",\n",
    "#   \"input_params\": [\n",
    "#     {\n",
    "#       \"url\": \"/object_detection\",\n",
    "#       \"param_name\": \"field0\",\n",
    "#       \"param_type\": \"int\"\n",
    "#     }\n",
    "#   ],\n",
    "#   \"output_params\": [\n",
    "#     {\n",
    "#       \"url\": \"/object_detection\",\n",
    "#       \"param_name\": \"res0\",\n",
    "#       \"param_type\": \"int\"\n",
    "#     }\n",
    "#   ],\n",
    "#   \"dependencies\": [\n",
    "#     {\n",
    "#       \"installer\": \"pip\",\n",
    "#       \"packages\": [\n",
    "#         {\n",
    "#           \"package_name\": \"numpy\",\n",
    "#           \"package_version\": \"1.5.0\",\n",
    "#           \"restraint\": \"ATLEAST\"\n",
    "#         }\n",
    "#       ]\n",
    "#     }\n",
    "#   ]\n",
    "}\n",
    "model_id = None\n",
    "try:\n",
    "    imported_model = modelApi.create_the_model(project_id=PROJECT_ID, body=model_body)\n",
    "    model_id = imported_model.model_id\n",
    "except ApiException as e:\n",
    "    error_code = json.loads(e.body)['error_code']\n",
    "    if error_code == \"ModelArts.3002\":\n",
    "        print(\"Get the model_id\")\n",
    "        model_list = modelApi.get_model_list(project_id=PROJECT_ID)\n",
    "        for model in model_list.models:\n",
    "            if model.model_name == 'mxnet-mnist-model':\n",
    "                model_id = model.model_id\n",
    "                break\n",
    "\n",
    "if model_id == None:\n",
    "    raise(Exception('Cannot find the model ID'))"
   ]
  },
  {
   "cell_type": "markdown",
   "metadata": {},
   "source": [
    "### 第六步：部署服务\n",
    "部署服务并监听服务状态"
   ]
  },
  {
   "cell_type": "code",
   "execution_count": null,
   "metadata": {},
   "outputs": [],
   "source": [
    "serviceApi = ServiceApi(maClient)\n",
    "\n",
    "body = {\n",
    "    \"service_name\": \"mxnet-mnist-service\",\n",
    "    \"description\": \"mxnet mnist service\",\n",
    "    \"infer_type\": \"real-time\",\n",
    "    \"config\": [\n",
    "        {\n",
    "            \"model_id\": model_id,\n",
    "            \"weight\": \"100\",\n",
    "            \"specification\": \"modelarts.vm.cpu.2u\",\n",
    "            \"instance_count\": 1,\n",
    "            \"envs\": {\n",
    "                \"input_data_name\": \"images\",\n",
    "                \"input_data_shape\": \"0,1,28,28\",\n",
    "                \"output_data_shape\": \"0,10\"\n",
    "            }\n",
    "        }\n",
    "    ]\n",
    "}\n",
    "service_id = None\n",
    "\n",
    "try:\n",
    "    deployed_service = serviceApi.create_service(project_id=PROJECT_ID, body = body)\n",
    "    service_id = deployed_service.service_id\n",
    "except ApiException as e:\n",
    "    error_code = json.loads(e.body)['error_code']\n",
    "    if error_code == 'ModelArts.3503':\n",
    "        service_list = serviceApi.get_service_list(project_id=PROJECT_ID)\n",
    "        for svc in service_list.services:\n",
    "            if svc.service_name == 'mxnet-mnist-service':\n",
    "                service_id = svc.service_id\n",
    "                break\n",
    "\n",
    "if service_id == None:\n",
    "    raise(Exception('service id not found!'))"
   ]
  },
  {
   "cell_type": "code",
   "execution_count": null,
   "metadata": {
    "scrolled": true
   },
   "outputs": [],
   "source": [
    "service_status = ''\n",
    "info = None\n",
    "# 服务状态，取值为running/deploying/concerning/failed/stopped/finished。\n",
    "elapsed_seconds = 0\n",
    "while True:\n",
    "    info = serviceApi.get_service_info(project_id=PROJECT_ID, service_id=service_id)\n",
    "    if service_status == info.status:\n",
    "        sleep(5)\n",
    "        continue\n",
    "    else:\n",
    "        service_status = info.status\n",
    "    print('service status: {}'.format(service_status))\n",
    "    \n",
    "    if service_status == 'failed' or service_status == 'stopped' or service_status == 'finished' or service_status == 'running':\n",
    "        break\n",
    "    sleep(5)\n",
    "    elapsed_seconds += 5\n",
    "    if elapsed_seconds >= TEN_MINUTES:\n",
    "        raise(Exception('timeout when deploying service {}'.format(service_id)))\n",
    "        break\n",
    "\n",
    "if service_status != 'running':\n",
    "    raise(Exception('Invalid service status: ' + service_status))\n"
   ]
  },
  {
   "cell_type": "markdown",
   "metadata": {},
   "source": [
    "### 第七步：验证服务\n",
    "获取访问权限X-Auth-Token"
   ]
  },
  {
   "cell_type": "code",
   "execution_count": null,
   "metadata": {},
   "outputs": [],
   "source": [
    "!pip install requests\n",
    "import requests\n",
    "xauth_body = { \n",
    "  \"auth\": { \n",
    "    \"identity\": { \n",
    "      \"methods\": [ \n",
    "        \"password\" \n",
    "      ], \n",
    "      \"password\": { \n",
    "        \"user\": { \n",
    "          \"name\": \"crystaldust\", \n",
    "          \"password\": \"containerops123\", \n",
    "          \"domain\": { \n",
    "            \"name\": \"crystaldust\" \n",
    "          } \n",
    "        } \n",
    "      } \n",
    "    }, \n",
    "    \"scope\": { \n",
    "      \"project\": { \n",
    "        \"name\": \"cn-north-1\"\n",
    "      } \n",
    "    } \n",
    "  } \n",
    "}\n",
    "with open('C:/Users/lance/.modelarts/config.json') as f:\n",
    "#     print(f.read())\n",
    "    obj = json.load(f)\n",
    "    \n",
    "    \n",
    "    username = obj['users'][0]['user']['username']\n",
    "    password = obj['users'][0]['user']['password']\n",
    "    \n",
    "    xauth_body['auth']['identity']['password']['user']['name'] = username\n",
    "    xauth_body['auth']['identity']['password']['user']['password'] = password\n",
    "    xauth_body['auth']['identity']['password']['user']['domain']['name'] = username\n",
    "\n",
    "jsonbody = json.dumps(xauth_body)\n",
    "\n",
    "resp = requests.post('https://iam.cn-north-1.myhuaweicloud.com/v3/auth/tokens', data=jsonbody)\n",
    "token = resp.headers['X-Subject-Token']\n",
    "if token == None:\n",
    "    raise(Exception('Failed to get X-Subject-Token'))"
   ]
  },
  {
   "cell_type": "markdown",
   "metadata": {},
   "source": [
    "上传文件进行预测"
   ]
  },
  {
   "cell_type": "code",
   "execution_count": null,
   "metadata": {},
   "outputs": [],
   "source": [
    "files = {'images': open('G:/chrome-downloads/0.jpg', 'rb')}\n",
    "headers = {'X-Auth-Token': token}\n",
    "resp = requests.post(info.access_address, files=files, headers=headers)\n",
    "print(resp.json())"
   ]
  }
 ],
 "metadata": {
  "kernelspec": {
   "display_name": "Python 3",
   "language": "python",
   "name": "python3"
  },
  "language_info": {
   "codemirror_mode": {
    "name": "ipython",
    "version": 3
   },
   "file_extension": ".py",
   "mimetype": "text/x-python",
   "name": "python",
   "nbconvert_exporter": "python",
   "pygments_lexer": "ipython3",
   "version": "3.6.8"
  }
 },
 "nbformat": 4,
 "nbformat_minor": 2
}
