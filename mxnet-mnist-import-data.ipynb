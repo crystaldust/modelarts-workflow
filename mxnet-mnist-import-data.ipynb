{
 "cells": [
  {
   "cell_type": "markdown",
   "metadata": {},
   "source": [
    "### 第一步：从\"市场\"导入预置的数据集\n",
    "目前ModelArts SDK/API暂时不支持对\"市场\"的操作，在本地使用OBS SDK上传数据；或使用web console导入数据\n",
    "(ModelArts notebook中无法访问网络，只能通过web console操作导入数据)"
   ]
  },
  {
   "cell_type": "code",
   "execution_count": 72,
   "metadata": {},
   "outputs": [
    {
     "name": "stdout",
     "output_type": "stream",
     "text": [
      "Looking in indexes: https://pypi.mirrors.ustc.edu.cn/simple\r\n",
      "Requirement already satisfied: esdk-obs-python in /opt/anaconda/envs/mask-rcnn/lib/python3.6/site-packages (3.0.5)\r\n"
     ]
    }
   ],
   "source": [
    "## 准备SDK\n",
    "!pip install esdk-obs-python"
   ]
  },
  {
   "cell_type": "code",
   "execution_count": 73,
   "metadata": {},
   "outputs": [
    {
     "name": "stdout",
     "output_type": "stream",
     "text": [
      "env: USER_ACCESS_KEY=SC36F1SPFVDDCD8MDFNG\n",
      "env: USER_SECRET_ACCESS_KEY=V5MEsWv9ws8aVEgepEaflE01Tow5ybdRZUoZagIp\n",
      "env: PROJECT_ID=cf1bed56cdc045b196278cace96852a8\n"
     ]
    }
   ],
   "source": [
    "%env USER_ACCESS_KEY=my_ak\n",
    "%env USER_SECRET_ACCESS_KEY=my_sk\n",
    "%env PROJECT_ID=my_projid"
   ]
  },
  {
   "cell_type": "code",
   "execution_count": 74,
   "metadata": {},
   "outputs": [],
   "source": [
    "import os\n",
    "from obs import ObsClient\n",
    "\n",
    "AK=os.getenv('USER_ACCESS_KEY')\n",
    "SK=os.getenv('USER_SECRET_ACCESS_KEY')\n",
    "PROJECT_ID=os.getenv('PROJECT_ID')\n",
    "\n",
    "obs_endpoint=os.getenv('MINER_OBS_URL')\n",
    "if obs_endpoint is None:\n",
    "    obs_endpoint='obs.cn-north-1.myhuaweicloud.com'\n",
    "\n",
    "\n",
    "obsClient = ObsClient(\n",
    "    access_key_id=AK,\n",
    "    secret_access_key=SK,\n",
    "    server=obs_endpoint\n",
    ")"
   ]
  },
  {
   "cell_type": "code",
   "execution_count": 75,
   "metadata": {},
   "outputs": [],
   "source": [
    "TARGET_BUCKET = 'ma-workflow'\n",
    "resp = obsClient.headBucket(TARGET_BUCKET)\n",
    "if resp.status == 404 and obsClient.createBucket(TARGET_BUCKET).status >= 300:\n",
    "    print(\"Failed to create bucket{}\".format(TARGET_BUCKET))\n"
   ]
  },
  {
   "cell_type": "code",
   "execution_count": 77,
   "metadata": {},
   "outputs": [
    {
     "name": "stdout",
     "output_type": "stream",
     "text": [
      "{'versionId': 'G0011168E633E04EFFFF804A0F4C5576', 'etag': '\"ecaf01772735cc57e70172da36c2868b\"', 'objectUrl': 'https://ma-workflow.obs.cn-north-1.myhuaweicloud.com/mnist/code/train_mnist.py'}\n"
     ]
    }
   ],
   "source": [
    "resp = obsClient.putFile(TARGET_BUCKET, 'mnist/code/train_mnist.py', file_path='./train_mnist.py')\n",
    "print(resp.body)\n",
    "if resp.status >= 300:\n",
    "    print('Failed to put file')  "
   ]
  },
  {
   "cell_type": "markdown",
   "metadata": {},
   "source": [
    "创建ModelArts客户端，注意需要在HOME目录下配置.modelarts/config.json\n",
    "详情参见[初始化ModelArts SDK](https://support.huaweicloud.com/sdkreference-modelarts/modelarts_04_0006.html)\n",
    "注意：非企业用户account为空，只填username"
   ]
  },
  {
   "cell_type": "code",
   "execution_count": 78,
   "metadata": {},
   "outputs": [
    {
     "name": "stderr",
     "output_type": "stream",
     "text": [
      "/home/lance/.local/lib/python3.6/site-packages/urllib3/connectionpool.py:847: InsecureRequestWarning: Unverified HTTPS request is being made. Adding certificate verification is strongly advised. See: https://urllib3.readthedocs.io/en/latest/advanced-usage.html#ssl-warnings\n",
      "  InsecureRequestWarning)\n"
     ]
    }
   ],
   "source": [
    "from modelarts import config\n",
    "from modelarts.client.api import *\n",
    "from modelarts.client.rest import ApiException\n",
    "maClient = config.create_client(context='default')"
   ]
  },
  {
   "cell_type": "markdown",
   "metadata": {},
   "source": [
    "创建训练作业\n",
    "- 参考ModelArts SDK说明，body与本目录下training_job.json一致\n",
    "- 对于文档中参数说明不明确之处，在web console中创建训练任务并观察请求参数，request body保存在sample_training_job.json中\n",
    "- spec_id的获取参考文档 [查看作业资源规格](https://support.huaweicloud.com/sdkreference-modelarts/modelarts_04_0074.html)\n",
    "- engine_id的获取参考文档 [查看作业引擎规格](https://support.huaweicloud.com/sdkreference-modelarts/modelarts_04_0075.html)\n"
   ]
  },
  {
   "cell_type": "code",
   "execution_count": 85,
   "metadata": {},
   "outputs": [
    {
     "name": "stderr",
     "output_type": "stream",
     "text": [
      "/home/lance/.local/lib/python3.6/site-packages/urllib3/connectionpool.py:847: InsecureRequestWarning: Unverified HTTPS request is being made. Adding certificate verification is strongly advised. See: https://urllib3.readthedocs.io/en/latest/advanced-usage.html#ssl-warnings\n",
      "  InsecureRequestWarning)\n"
     ]
    }
   ],
   "source": [
    "# 注意事项xx_url应该是目录，必须以/结尾\n",
    "# engine_id=29: MXNet-1.2.1-python3.6\n",
    "# model_id优先级高于app_url & boot_file_url，若指定model_id则优先从已有模型中读取参数并进行训练\n",
    "\n",
    "training_job_body = {\n",
    "  \"job_name\": \"mxnet-mnist\",\n",
    "  \"job_desc\": \"mxnet-mnist with ModelArts SDK\",\n",
    "  \"config\": {\n",
    "    \"worker_server_num\": 1,\n",
    "#     \"model_id\": 3,\n",
    "    \"app_url\": \"/ma-workflow/mnist/code/\",\n",
    "    \"boot_file_url\": \"/ma-workflow/mnist/code/train_mnist.py\",\n",
    "    \"data_source\": [\n",
    "      {\n",
    "        \"type\": \"obs\",\n",
    "        \"data_url\": \"/ma-workflow/mnist/\"\n",
    "      }\n",
    "    ],\n",
    "    \"train_url\": \"/ma-workflow/mnist/output/\",\n",
    "    \"log_url\": \"/ma-workflow/mnist/log/\",\n",
    "    \"spec_id\": 2,\n",
    "    \"engine_id\": 29\n",
    "  }\n",
    "}\n",
    "\n",
    "trainJobApi = TrainJobApi(maClient)\n",
    "try:\n",
    "    training_job = trainJobApi.create_training_job(project_id=PROJECT_ID, body=training_job_body)\n",
    "    job_id = training_job.job_id\n",
    "    version_id = training_job.version_id\n",
    "except ApiException as e:\n",
    "    resp_obj = json.loads(e.body)\n",
    "    print(e)\n",
    "    if resp_obj['error_code'] == 'ModelArts.0103': # 重名，作业已存在，创建作业版本\n",
    "        # 当前SDK需要先列出job list，再按照job_name查找到job_id，才能创建作业版本\n",
    "        # 删除job也需要job_id\n",
    "        print(\"Let's createa job version, it's a pretty tough task for now, we'll do it later!\")\n",
    "        \n",
    "    \n",
    "        "
   ]
  },
  {
   "cell_type": "markdown",
   "metadata": {},
   "source": [
    "监听训练任务的状态"
   ]
  },
  {
   "cell_type": "code",
   "execution_count": 86,
   "metadata": {},
   "outputs": [
    {
     "name": "stderr",
     "output_type": "stream",
     "text": [
      "/home/lance/.local/lib/python3.6/site-packages/urllib3/connectionpool.py:847: InsecureRequestWarning: Unverified HTTPS request is being made. Adding certificate verification is strongly advised. See: https://urllib3.readthedocs.io/en/latest/advanced-usage.html#ssl-warnings\n",
      "  InsecureRequestWarning)\n"
     ]
    },
    {
     "name": "stdout",
     "output_type": "stream",
     "text": [
      "1\n",
      "Job 19638@28827 initializing\n"
     ]
    },
    {
     "name": "stderr",
     "output_type": "stream",
     "text": [
      "/home/lance/.local/lib/python3.6/site-packages/urllib3/connectionpool.py:847: InsecureRequestWarning: Unverified HTTPS request is being made. Adding certificate verification is strongly advised. See: https://urllib3.readthedocs.io/en/latest/advanced-usage.html#ssl-warnings\n",
      "  InsecureRequestWarning)\n",
      "/home/lance/.local/lib/python3.6/site-packages/urllib3/connectionpool.py:847: InsecureRequestWarning: Unverified HTTPS request is being made. Adding certificate verification is strongly advised. See: https://urllib3.readthedocs.io/en/latest/advanced-usage.html#ssl-warnings\n",
      "  InsecureRequestWarning)\n",
      "/home/lance/.local/lib/python3.6/site-packages/urllib3/connectionpool.py:847: InsecureRequestWarning: Unverified HTTPS request is being made. Adding certificate verification is strongly advised. See: https://urllib3.readthedocs.io/en/latest/advanced-usage.html#ssl-warnings\n",
      "  InsecureRequestWarning)\n",
      "/home/lance/.local/lib/python3.6/site-packages/urllib3/connectionpool.py:847: InsecureRequestWarning: Unverified HTTPS request is being made. Adding certificate verification is strongly advised. See: https://urllib3.readthedocs.io/en/latest/advanced-usage.html#ssl-warnings\n",
      "  InsecureRequestWarning)\n",
      "/home/lance/.local/lib/python3.6/site-packages/urllib3/connectionpool.py:847: InsecureRequestWarning: Unverified HTTPS request is being made. Adding certificate verification is strongly advised. See: https://urllib3.readthedocs.io/en/latest/advanced-usage.html#ssl-warnings\n",
      "  InsecureRequestWarning)\n",
      "/home/lance/.local/lib/python3.6/site-packages/urllib3/connectionpool.py:847: InsecureRequestWarning: Unverified HTTPS request is being made. Adding certificate verification is strongly advised. See: https://urllib3.readthedocs.io/en/latest/advanced-usage.html#ssl-warnings\n",
      "  InsecureRequestWarning)\n",
      "/home/lance/.local/lib/python3.6/site-packages/urllib3/connectionpool.py:847: InsecureRequestWarning: Unverified HTTPS request is being made. Adding certificate verification is strongly advised. See: https://urllib3.readthedocs.io/en/latest/advanced-usage.html#ssl-warnings\n",
      "  InsecureRequestWarning)\n",
      "/home/lance/.local/lib/python3.6/site-packages/urllib3/connectionpool.py:847: InsecureRequestWarning: Unverified HTTPS request is being made. Adding certificate verification is strongly advised. See: https://urllib3.readthedocs.io/en/latest/advanced-usage.html#ssl-warnings\n",
      "  InsecureRequestWarning)\n",
      "/home/lance/.local/lib/python3.6/site-packages/urllib3/connectionpool.py:847: InsecureRequestWarning: Unverified HTTPS request is being made. Adding certificate verification is strongly advised. See: https://urllib3.readthedocs.io/en/latest/advanced-usage.html#ssl-warnings\n",
      "  InsecureRequestWarning)\n"
     ]
    },
    {
     "name": "stdout",
     "output_type": "stream",
     "text": [
      "8\n",
      "Job 19638@28827 running\n"
     ]
    },
    {
     "name": "stderr",
     "output_type": "stream",
     "text": [
      "/home/lance/.local/lib/python3.6/site-packages/urllib3/connectionpool.py:847: InsecureRequestWarning: Unverified HTTPS request is being made. Adding certificate verification is strongly advised. See: https://urllib3.readthedocs.io/en/latest/advanced-usage.html#ssl-warnings\n",
      "  InsecureRequestWarning)\n",
      "/home/lance/.local/lib/python3.6/site-packages/urllib3/connectionpool.py:847: InsecureRequestWarning: Unverified HTTPS request is being made. Adding certificate verification is strongly advised. See: https://urllib3.readthedocs.io/en/latest/advanced-usage.html#ssl-warnings\n",
      "  InsecureRequestWarning)\n",
      "/home/lance/.local/lib/python3.6/site-packages/urllib3/connectionpool.py:847: InsecureRequestWarning: Unverified HTTPS request is being made. Adding certificate verification is strongly advised. See: https://urllib3.readthedocs.io/en/latest/advanced-usage.html#ssl-warnings\n",
      "  InsecureRequestWarning)\n",
      "/home/lance/.local/lib/python3.6/site-packages/urllib3/connectionpool.py:847: InsecureRequestWarning: Unverified HTTPS request is being made. Adding certificate verification is strongly advised. See: https://urllib3.readthedocs.io/en/latest/advanced-usage.html#ssl-warnings\n",
      "  InsecureRequestWarning)\n",
      "/home/lance/.local/lib/python3.6/site-packages/urllib3/connectionpool.py:847: InsecureRequestWarning: Unverified HTTPS request is being made. Adding certificate verification is strongly advised. See: https://urllib3.readthedocs.io/en/latest/advanced-usage.html#ssl-warnings\n",
      "  InsecureRequestWarning)\n",
      "/home/lance/.local/lib/python3.6/site-packages/urllib3/connectionpool.py:847: InsecureRequestWarning: Unverified HTTPS request is being made. Adding certificate verification is strongly advised. See: https://urllib3.readthedocs.io/en/latest/advanced-usage.html#ssl-warnings\n",
      "  InsecureRequestWarning)\n",
      "/home/lance/.local/lib/python3.6/site-packages/urllib3/connectionpool.py:847: InsecureRequestWarning: Unverified HTTPS request is being made. Adding certificate verification is strongly advised. See: https://urllib3.readthedocs.io/en/latest/advanced-usage.html#ssl-warnings\n",
      "  InsecureRequestWarning)\n",
      "/home/lance/.local/lib/python3.6/site-packages/urllib3/connectionpool.py:847: InsecureRequestWarning: Unverified HTTPS request is being made. Adding certificate verification is strongly advised. See: https://urllib3.readthedocs.io/en/latest/advanced-usage.html#ssl-warnings\n",
      "  InsecureRequestWarning)\n",
      "/home/lance/.local/lib/python3.6/site-packages/urllib3/connectionpool.py:847: InsecureRequestWarning: Unverified HTTPS request is being made. Adding certificate verification is strongly advised. See: https://urllib3.readthedocs.io/en/latest/advanced-usage.html#ssl-warnings\n",
      "  InsecureRequestWarning)\n",
      "/home/lance/.local/lib/python3.6/site-packages/urllib3/connectionpool.py:847: InsecureRequestWarning: Unverified HTTPS request is being made. Adding certificate verification is strongly advised. See: https://urllib3.readthedocs.io/en/latest/advanced-usage.html#ssl-warnings\n",
      "  InsecureRequestWarning)\n",
      "/home/lance/.local/lib/python3.6/site-packages/urllib3/connectionpool.py:847: InsecureRequestWarning: Unverified HTTPS request is being made. Adding certificate verification is strongly advised. See: https://urllib3.readthedocs.io/en/latest/advanced-usage.html#ssl-warnings\n",
      "  InsecureRequestWarning)\n",
      "/home/lance/.local/lib/python3.6/site-packages/urllib3/connectionpool.py:847: InsecureRequestWarning: Unverified HTTPS request is being made. Adding certificate verification is strongly advised. See: https://urllib3.readthedocs.io/en/latest/advanced-usage.html#ssl-warnings\n",
      "  InsecureRequestWarning)\n",
      "/home/lance/.local/lib/python3.6/site-packages/urllib3/connectionpool.py:847: InsecureRequestWarning: Unverified HTTPS request is being made. Adding certificate verification is strongly advised. See: https://urllib3.readthedocs.io/en/latest/advanced-usage.html#ssl-warnings\n",
      "  InsecureRequestWarning)\n",
      "/home/lance/.local/lib/python3.6/site-packages/urllib3/connectionpool.py:847: InsecureRequestWarning: Unverified HTTPS request is being made. Adding certificate verification is strongly advised. See: https://urllib3.readthedocs.io/en/latest/advanced-usage.html#ssl-warnings\n",
      "  InsecureRequestWarning)\n",
      "/home/lance/.local/lib/python3.6/site-packages/urllib3/connectionpool.py:847: InsecureRequestWarning: Unverified HTTPS request is being made. Adding certificate verification is strongly advised. See: https://urllib3.readthedocs.io/en/latest/advanced-usage.html#ssl-warnings\n",
      "  InsecureRequestWarning)\n",
      "/home/lance/.local/lib/python3.6/site-packages/urllib3/connectionpool.py:847: InsecureRequestWarning: Unverified HTTPS request is being made. Adding certificate verification is strongly advised. See: https://urllib3.readthedocs.io/en/latest/advanced-usage.html#ssl-warnings\n",
      "  InsecureRequestWarning)\n",
      "/home/lance/.local/lib/python3.6/site-packages/urllib3/connectionpool.py:847: InsecureRequestWarning: Unverified HTTPS request is being made. Adding certificate verification is strongly advised. See: https://urllib3.readthedocs.io/en/latest/advanced-usage.html#ssl-warnings\n",
      "  InsecureRequestWarning)\n",
      "/home/lance/.local/lib/python3.6/site-packages/urllib3/connectionpool.py:847: InsecureRequestWarning: Unverified HTTPS request is being made. Adding certificate verification is strongly advised. See: https://urllib3.readthedocs.io/en/latest/advanced-usage.html#ssl-warnings\n",
      "  InsecureRequestWarning)\n",
      "/home/lance/.local/lib/python3.6/site-packages/urllib3/connectionpool.py:847: InsecureRequestWarning: Unverified HTTPS request is being made. Adding certificate verification is strongly advised. See: https://urllib3.readthedocs.io/en/latest/advanced-usage.html#ssl-warnings\n",
      "  InsecureRequestWarning)\n",
      "/home/lance/.local/lib/python3.6/site-packages/urllib3/connectionpool.py:847: InsecureRequestWarning: Unverified HTTPS request is being made. Adding certificate verification is strongly advised. See: https://urllib3.readthedocs.io/en/latest/advanced-usage.html#ssl-warnings\n",
      "  InsecureRequestWarning)\n",
      "/home/lance/.local/lib/python3.6/site-packages/urllib3/connectionpool.py:847: InsecureRequestWarning: Unverified HTTPS request is being made. Adding certificate verification is strongly advised. See: https://urllib3.readthedocs.io/en/latest/advanced-usage.html#ssl-warnings\n",
      "  InsecureRequestWarning)\n",
      "/home/lance/.local/lib/python3.6/site-packages/urllib3/connectionpool.py:847: InsecureRequestWarning: Unverified HTTPS request is being made. Adding certificate verification is strongly advised. See: https://urllib3.readthedocs.io/en/latest/advanced-usage.html#ssl-warnings\n",
      "  InsecureRequestWarning)\n",
      "/home/lance/.local/lib/python3.6/site-packages/urllib3/connectionpool.py:847: InsecureRequestWarning: Unverified HTTPS request is being made. Adding certificate verification is strongly advised. See: https://urllib3.readthedocs.io/en/latest/advanced-usage.html#ssl-warnings\n",
      "  InsecureRequestWarning)\n",
      "/home/lance/.local/lib/python3.6/site-packages/urllib3/connectionpool.py:847: InsecureRequestWarning: Unverified HTTPS request is being made. Adding certificate verification is strongly advised. See: https://urllib3.readthedocs.io/en/latest/advanced-usage.html#ssl-warnings\n",
      "  InsecureRequestWarning)\n",
      "/home/lance/.local/lib/python3.6/site-packages/urllib3/connectionpool.py:847: InsecureRequestWarning: Unverified HTTPS request is being made. Adding certificate verification is strongly advised. See: https://urllib3.readthedocs.io/en/latest/advanced-usage.html#ssl-warnings\n",
      "  InsecureRequestWarning)\n",
      "/home/lance/.local/lib/python3.6/site-packages/urllib3/connectionpool.py:847: InsecureRequestWarning: Unverified HTTPS request is being made. Adding certificate verification is strongly advised. See: https://urllib3.readthedocs.io/en/latest/advanced-usage.html#ssl-warnings\n",
      "  InsecureRequestWarning)\n",
      "/home/lance/.local/lib/python3.6/site-packages/urllib3/connectionpool.py:847: InsecureRequestWarning: Unverified HTTPS request is being made. Adding certificate verification is strongly advised. See: https://urllib3.readthedocs.io/en/latest/advanced-usage.html#ssl-warnings\n",
      "  InsecureRequestWarning)\n",
      "/home/lance/.local/lib/python3.6/site-packages/urllib3/connectionpool.py:847: InsecureRequestWarning: Unverified HTTPS request is being made. Adding certificate verification is strongly advised. See: https://urllib3.readthedocs.io/en/latest/advanced-usage.html#ssl-warnings\n",
      "  InsecureRequestWarning)\n"
     ]
    },
    {
     "name": "stderr",
     "output_type": "stream",
     "text": [
      "/home/lance/.local/lib/python3.6/site-packages/urllib3/connectionpool.py:847: InsecureRequestWarning: Unverified HTTPS request is being made. Adding certificate verification is strongly advised. See: https://urllib3.readthedocs.io/en/latest/advanced-usage.html#ssl-warnings\n",
      "  InsecureRequestWarning)\n",
      "/home/lance/.local/lib/python3.6/site-packages/urllib3/connectionpool.py:847: InsecureRequestWarning: Unverified HTTPS request is being made. Adding certificate verification is strongly advised. See: https://urllib3.readthedocs.io/en/latest/advanced-usage.html#ssl-warnings\n",
      "  InsecureRequestWarning)\n",
      "/home/lance/.local/lib/python3.6/site-packages/urllib3/connectionpool.py:847: InsecureRequestWarning: Unverified HTTPS request is being made. Adding certificate verification is strongly advised. See: https://urllib3.readthedocs.io/en/latest/advanced-usage.html#ssl-warnings\n",
      "  InsecureRequestWarning)\n",
      "/home/lance/.local/lib/python3.6/site-packages/urllib3/connectionpool.py:847: InsecureRequestWarning: Unverified HTTPS request is being made. Adding certificate verification is strongly advised. See: https://urllib3.readthedocs.io/en/latest/advanced-usage.html#ssl-warnings\n",
      "  InsecureRequestWarning)\n",
      "/home/lance/.local/lib/python3.6/site-packages/urllib3/connectionpool.py:847: InsecureRequestWarning: Unverified HTTPS request is being made. Adding certificate verification is strongly advised. See: https://urllib3.readthedocs.io/en/latest/advanced-usage.html#ssl-warnings\n",
      "  InsecureRequestWarning)\n",
      "/home/lance/.local/lib/python3.6/site-packages/urllib3/connectionpool.py:847: InsecureRequestWarning: Unverified HTTPS request is being made. Adding certificate verification is strongly advised. See: https://urllib3.readthedocs.io/en/latest/advanced-usage.html#ssl-warnings\n",
      "  InsecureRequestWarning)\n",
      "/home/lance/.local/lib/python3.6/site-packages/urllib3/connectionpool.py:847: InsecureRequestWarning: Unverified HTTPS request is being made. Adding certificate verification is strongly advised. See: https://urllib3.readthedocs.io/en/latest/advanced-usage.html#ssl-warnings\n",
      "  InsecureRequestWarning)\n",
      "/home/lance/.local/lib/python3.6/site-packages/urllib3/connectionpool.py:847: InsecureRequestWarning: Unverified HTTPS request is being made. Adding certificate verification is strongly advised. See: https://urllib3.readthedocs.io/en/latest/advanced-usage.html#ssl-warnings\n",
      "  InsecureRequestWarning)\n",
      "/home/lance/.local/lib/python3.6/site-packages/urllib3/connectionpool.py:847: InsecureRequestWarning: Unverified HTTPS request is being made. Adding certificate verification is strongly advised. See: https://urllib3.readthedocs.io/en/latest/advanced-usage.html#ssl-warnings\n",
      "  InsecureRequestWarning)\n",
      "/home/lance/.local/lib/python3.6/site-packages/urllib3/connectionpool.py:847: InsecureRequestWarning: Unverified HTTPS request is being made. Adding certificate verification is strongly advised. See: https://urllib3.readthedocs.io/en/latest/advanced-usage.html#ssl-warnings\n",
      "  InsecureRequestWarning)\n",
      "/home/lance/.local/lib/python3.6/site-packages/urllib3/connectionpool.py:847: InsecureRequestWarning: Unverified HTTPS request is being made. Adding certificate verification is strongly advised. See: https://urllib3.readthedocs.io/en/latest/advanced-usage.html#ssl-warnings\n",
      "  InsecureRequestWarning)\n",
      "/home/lance/.local/lib/python3.6/site-packages/urllib3/connectionpool.py:847: InsecureRequestWarning: Unverified HTTPS request is being made. Adding certificate verification is strongly advised. See: https://urllib3.readthedocs.io/en/latest/advanced-usage.html#ssl-warnings\n",
      "  InsecureRequestWarning)\n",
      "/home/lance/.local/lib/python3.6/site-packages/urllib3/connectionpool.py:847: InsecureRequestWarning: Unverified HTTPS request is being made. Adding certificate verification is strongly advised. See: https://urllib3.readthedocs.io/en/latest/advanced-usage.html#ssl-warnings\n",
      "  InsecureRequestWarning)\n",
      "/home/lance/.local/lib/python3.6/site-packages/urllib3/connectionpool.py:847: InsecureRequestWarning: Unverified HTTPS request is being made. Adding certificate verification is strongly advised. See: https://urllib3.readthedocs.io/en/latest/advanced-usage.html#ssl-warnings\n",
      "  InsecureRequestWarning)\n",
      "/home/lance/.local/lib/python3.6/site-packages/urllib3/connectionpool.py:847: InsecureRequestWarning: Unverified HTTPS request is being made. Adding certificate verification is strongly advised. See: https://urllib3.readthedocs.io/en/latest/advanced-usage.html#ssl-warnings\n",
      "  InsecureRequestWarning)\n"
     ]
    },
    {
     "name": "stdout",
     "output_type": "stream",
     "text": [
      "10\n",
      "Job 19638@28827 complete\n"
     ]
    }
   ],
   "source": [
    "# info = trainJobApi.view_training_job(project_id=PROJECT_ID, job_id=job_id, version_id=version_id)\n",
    "# print(info)\n",
    "from time import sleep\n",
    "elapsed_seconds = 0\n",
    "TEN_MINUTES = 60 * 10  # Make it longer for computation consuming training jobs\n",
    "current_status = 0\n",
    "while True:\n",
    "    info = trainJobApi.view_training_job(project_id=PROJECT_ID, job_id=job_id, version_id=version_id)\n",
    "\n",
    "    if current_status == info.status:\n",
    "        continue\n",
    "    else:\n",
    "        current_status = info.status\n",
    "    \n",
    "    print(info.status)\n",
    "    if info.status == 1:\n",
    "        print('Job {}@{} initializing'.format(job_id, version_id))  \n",
    "        \n",
    "    elif info.status == 8:\n",
    "        print('Job {}@{} running'.format(job_id, version_id))\n",
    "    elif info.status == 10:\n",
    "        print('Job {}@{} complete'.format(job_id, version_id))\n",
    "        break\n",
    "    elif info.status == 11:\n",
    "        print('Job {}@{} failed'.format(job_id, version_id))\n",
    "        print(info)\n",
    "        break\n",
    "        \n",
    "    elapsed_seconds += 5\n",
    "    if elapsed_seconds >= TEN_MINUTES:\n",
    "        print('Job {}@{} timeout'.format(job_id, version_id))\n",
    "        break\n",
    "            "
   ]
  },
  {
   "cell_type": "markdown",
   "metadata": {},
   "source": [
    "导入模型，上传config.json和customize_service.py到model目录下"
   ]
  },
  {
   "cell_type": "code",
   "execution_count": 88,
   "metadata": {
    "scrolled": true
   },
   "outputs": [
    {
     "name": "stdout",
     "output_type": "stream",
     "text": [
      "upload config.json for model:\n",
      "{'versionId': 'G0011168E64529C1FFFF80510FC48FD3', 'etag': '\"bd6a5ac6acf304030075497d575669e1\"', 'objectUrl': 'https://ma-workflow.obs.cn-north-1.myhuaweicloud.com/mnist/output/model/config.json'}\n",
      "\n",
      "upload customize_service.py for model:\n",
      "{'versionId': 'G0011168E64529F3FFFF80510FC48FD4', 'etag': '\"f242ba3a83d8127807ca7b2cdfd0fbcb\"', 'objectUrl': 'https://ma-workflow.obs.cn-north-1.myhuaweicloud.com/mnist/output/model/customize_service.py'}\n",
      "\n"
     ]
    }
   ],
   "source": [
    "resp = obsClient.putFile(TARGET_BUCKET, 'mnist/output/model/config.json', file_path='./config.json')\n",
    "print('upload config.json for model:\\n{}\\n'.format(resp.body))\n",
    "if resp.status >= 300:\n",
    "    print('Failed to put file')  \n",
    "\n",
    "resp = obsClient.putFile(TARGET_BUCKET, 'mnist/output/model/customize_service.py', file_path='./customize_service.py')\n",
    "print('upload customize_service.py for model:\\n{}\\n'.format(resp.body))\n",
    "if resp.status >= 300:\n",
    "    print('Failed to put file')  \n",
    "    "
   ]
  },
  {
   "cell_type": "code",
   "execution_count": 92,
   "metadata": {},
   "outputs": [
    {
     "name": "stderr",
     "output_type": "stream",
     "text": [
      "/home/lance/.local/lib/python3.6/site-packages/urllib3/connectionpool.py:847: InsecureRequestWarning: Unverified HTTPS request is being made. Adding certificate verification is strongly advised. See: https://urllib3.readthedocs.io/en/latest/advanced-usage.html#ssl-warnings\n",
      "  InsecureRequestWarning)\n"
     ]
    }
   ],
   "source": [
    "modelApi = ModelApi(maClient)\n",
    "\n",
    "model_body = {\n",
    "  \"model_name\": \"mxnet-mnist-model\",\n",
    "  \"model_version\": \"0.0.1\",\n",
    "#   source_location到model目录上一层即可\n",
    "  \"source_location\": \"https://ma-workflow.obs.cn-north-1.myhwclouds.com/mnist/output\",\n",
    "#   注释掉的参数为必填，但是从配置文件中读取\n",
    "  \"model_type\": \"MXNet\",\n",
    "  \"model_algorithm\": \"image_classification\",\n",
    "#   \"input_params\": [\n",
    "#     {\n",
    "#       \"url\": \"/object_detection\",\n",
    "#       \"param_name\": \"field0\",\n",
    "#       \"param_type\": \"int\"\n",
    "#     }\n",
    "#   ],\n",
    "#   \"output_params\": [\n",
    "#     {\n",
    "#       \"url\": \"/object_detection\",\n",
    "#       \"param_name\": \"res0\",\n",
    "#       \"param_type\": \"int\"\n",
    "#     }\n",
    "#   ],\n",
    "#   \"dependencies\": [\n",
    "#     {\n",
    "#       \"installer\": \"pip\",\n",
    "#       \"packages\": [\n",
    "#         {\n",
    "#           \"package_name\": \"numpy\",\n",
    "#           \"package_version\": \"1.5.0\",\n",
    "#           \"restraint\": \"ATLEAST\"\n",
    "#         }\n",
    "#       ]\n",
    "#     }\n",
    "#   ]\n",
    "}\n",
    "\n",
    "imported_model = modelApi.create_the_model(project_id=PROJECT_ID, body=model_body)"
   ]
  },
  {
   "cell_type": "code",
   "execution_count": 93,
   "metadata": {},
   "outputs": [
    {
     "name": "stdout",
     "output_type": "stream",
     "text": [
      "{'model_id': '8319ccbf-408f-494c-8925-93866727f6c9'}\n"
     ]
    }
   ],
   "source": [
    "print(imported_model)"
   ]
  },
  {
   "cell_type": "code",
   "execution_count": 67,
   "metadata": {},
   "outputs": [],
   "source": [
    "serviceApi = ServiceApi(maClient)\n",
    "\n",
    "body = {\n",
    "    \"service_name\": \"mxnet-mnist-service\",\n",
    "    \"description\": \"mxnet mnist service\",\n",
    "    \"infer_type\": \"real-time\",\n",
    "    \"config\": [\n",
    "        {\n",
    "            \"model_id\": \"22d7a217-86d1-4ef1-94cf-5661de31c027\",\n",
    "            \"weight\": \"70\",\n",
    "            \"specification\": \"c2.m8.g1\",\n",
    "            \"instance_count\": 1,\n",
    "            \"envs\": {\n",
    "                \"model_name\": \"demo-yb-8606V001\",\n",
    "                \"load_epoch\": \"0\"\n",
    "            }\n",
    "        },\n",
    "        {\n",
    "            \"model_id\": \"22d7a217-86d1-4ef1-94cf-5661de31c025\",\n",
    "            \"weight\": \"30\",\n",
    "            \"specification\": \"c2.m8.g1\",\n",
    "            \"instance_count\": 1\n",
    "        }\n",
    "    ]\n",
    "}\n",
    "serviceApi.create_service(project_id=PROJECT_ID, body = body)"
   ]
  },
  {
   "cell_type": "code",
   "execution_count": null,
   "metadata": {},
   "outputs": [],
   "source": []
  }
 ],
 "metadata": {
  "kernelspec": {
   "display_name": "Python 3",
   "language": "python",
   "name": "python3"
  },
  "language_info": {
   "codemirror_mode": {
    "name": "ipython",
    "version": 3
   },
   "file_extension": ".py",
   "mimetype": "text/x-python",
   "name": "python",
   "nbconvert_exporter": "python",
   "pygments_lexer": "ipython3",
   "version": "3.6.8"
  }
 },
 "nbformat": 4,
 "nbformat_minor": 2
}
