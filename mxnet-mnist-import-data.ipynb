{
 "cells": [
  {
   "cell_type": "markdown",
   "metadata": {},
   "source": [
    "### 第一步：从\"市场\"导入预置的数据集\n",
    "目前ModelArts SDK/API暂时不支持对\"市场\"的操作，在本地使用OBS SDK上传数据；或使用web console导入数据\n",
    "(ModelArts notebook中无法访问网络，只能通过web console操作导入数据)"
   ]
  },
  {
   "cell_type": "code",
   "execution_count": 1,
   "metadata": {},
   "outputs": [
    {
     "name": "stdout",
     "output_type": "stream",
     "text": [
      "Looking in indexes: https://pypi.tuna.tsinghua.edu.cn/simple\n",
      "Requirement already satisfied: esdk-obs-python in c:\\users\\lance\\appdata\\roaming\\python\\python36\\site-packages (3.0.5)\n"
     ]
    }
   ],
   "source": [
    "## 准备SDK\n",
    "!pip install esdk-obs-python"
   ]
  },
  {
   "cell_type": "code",
   "execution_count": 2,
   "metadata": {},
   "outputs": [
    {
     "name": "stdout",
     "output_type": "stream",
     "text": [
      "env: USER_ACCESS_KEY=SC36F1SPFVDDCD8MDFNG\n",
      "env: USER_SECRET_ACCESS_KEY=V5MEsWv9ws8aVEgepEaflE01Tow5ybdRZUoZagIp\n",
      "env: PROJECT_ID=cf1bed56cdc045b196278cace96852a8\n"
     ]
    }
   ],
   "source": [
    "%env USER_ACCESS_KEY=my_ak\n",
    "%env USER_SECRET_ACCESS_KEY=my_sk\n",
    "%env PROJECT_ID=my_projid"
   ]
  },
  {
   "cell_type": "code",
   "execution_count": 3,
   "metadata": {},
   "outputs": [],
   "source": [
    "import os\n",
    "from obs import ObsClient\n",
    "\n",
    "AK=os.getenv('USER_ACCESS_KEY')\n",
    "SK=os.getenv('USER_SECRET_ACCESS_KEY')\n",
    "PROJECT_ID=os.getenv('PROJECT_ID')\n",
    "\n",
    "obs_endpoint=os.getenv('MINER_OBS_URL')\n",
    "if obs_endpoint is None:\n",
    "    obs_endpoint='obs.cn-north-1.myhuaweicloud.com'\n",
    "\n",
    "\n",
    "obsClient = ObsClient(\n",
    "    access_key_id=AK,\n",
    "    secret_access_key=SK,\n",
    "    server=obs_endpoint\n",
    ")"
   ]
  },
  {
   "cell_type": "code",
   "execution_count": 4,
   "metadata": {},
   "outputs": [],
   "source": [
    "TARGET_BUCKET = 'ma-workflow'\n",
    "resp = obsClient.headBucket(TARGET_BUCKET)\n",
    "if resp.status == 404 and obsClient.createBucket(TARGET_BUCKET).status >= 300:\n",
    "    print(\"Failed to create bucket{}\".format(TARGET_BUCKET))\n"
   ]
  },
  {
   "cell_type": "code",
   "execution_count": 5,
   "metadata": {},
   "outputs": [
    {
     "name": "stdout",
     "output_type": "stream",
     "text": [
      "{'versionId': 'G0011168E7158199FFFF804E0F98FFB8', 'etag': '\"5fdf6bbc3ef5d5123a31fd6f1a6055b0\"', 'objectUrl': 'https://ma-workflow.obs.cn-north-1.myhuaweicloud.com/mnist/code/train_mnist.py'}\n"
     ]
    }
   ],
   "source": [
    "resp = obsClient.putFile(TARGET_BUCKET, 'mnist/code/train_mnist.py', file_path='./train_mnist.py')\n",
    "print(resp.body)\n",
    "if resp.status >= 300:\n",
    "    print('Failed to put file')  "
   ]
  },
  {
   "cell_type": "markdown",
   "metadata": {},
   "source": [
    "创建ModelArts客户端，注意需要在HOME目录下配置.modelarts/config.json\n",
    "详情参见[初始化ModelArts SDK](https://support.huaweicloud.com/sdkreference-modelarts/modelarts_04_0006.html)\n",
    "注意：非企业用户account为空，只填username"
   ]
  },
  {
   "cell_type": "code",
   "execution_count": 6,
   "metadata": {},
   "outputs": [
    {
     "name": "stderr",
     "output_type": "stream",
     "text": [
      "E:\\Dev Tools\\Anaconda3\\envs\\py36\\lib\\site-packages\\urllib3\\connectionpool.py:847: InsecureRequestWarning: Unverified HTTPS request is being made. Adding certificate verification is strongly advised. See: https://urllib3.readthedocs.io/en/latest/advanced-usage.html#ssl-warnings\n",
      "  InsecureRequestWarning)\n"
     ]
    }
   ],
   "source": [
    "from modelarts import config\n",
    "from modelarts.client.api import *\n",
    "from modelarts.client.rest import ApiException\n",
    "maClient = config.create_client(context='default')"
   ]
  },
  {
   "cell_type": "markdown",
   "metadata": {},
   "source": [
    "创建训练作业\n",
    "- 参考ModelArts SDK说明，body与本目录下training_job.json一致\n",
    "- 对于文档中参数说明不明确之处，在web console中创建训练任务并观察请求参数，request body保存在sample_training_job.json中\n",
    "- spec_id的获取参考文档 [查看作业资源规格](https://support.huaweicloud.com/sdkreference-modelarts/modelarts_04_0074.html)\n",
    "- engine_id的获取参考文档 [查看作业引擎规格](https://support.huaweicloud.com/sdkreference-modelarts/modelarts_04_0075.html)\n"
   ]
  },
  {
   "cell_type": "code",
   "execution_count": 8,
   "metadata": {},
   "outputs": [
    {
     "name": "stdout",
     "output_type": "stream",
     "text": [
      "(400)\n",
      "Reason: Bad Request\n",
      "HTTP response headers: HTTPHeaderDict({'Date': 'Wed, 13 Feb 2019 13:40:25 GMT', 'Content-Type': 'application/json', 'Content-Length': '116', 'Connection': 'keep-alive', 'Referrer-Policy': 'origin-when-cross-origin, strict-origin-when-cross-origin', 'X-Frame-Options': 'DENY', 'X-XSS-Protection': '1; mode=block', 'X-Content-Type-Options': 'nosniff', 'Content-Security-Policy': \"default-src 'self'\", 'X-Permitted-Cross-Domain-Policies': 'master-only', 'Server': 'api-gateway', 'X-Request-Id': '34191ee714a54ea2407cdb0f579475f0'})\n",
      "HTTP response body: {\"is_success\":false,\"error_code\":\"ModelArts.0103\",\"error_message\":\"Job name:mxnet-mnist is existed\",\"error_info\":{}}\n",
      "\n",
      "Let's createa job version, it's a pretty tough task for now, we'll do it later!\n"
     ]
    },
    {
     "name": "stderr",
     "output_type": "stream",
     "text": [
      "E:\\Dev Tools\\Anaconda3\\envs\\py36\\lib\\site-packages\\urllib3\\connectionpool.py:847: InsecureRequestWarning: Unverified HTTPS request is being made. Adding certificate verification is strongly advised. See: https://urllib3.readthedocs.io/en/latest/advanced-usage.html#ssl-warnings\n",
      "  InsecureRequestWarning)\n"
     ]
    }
   ],
   "source": [
    "# 注意事项xx_url应该是目录，必须以/结尾\n",
    "# engine_id=29: MXNet-1.2.1-python3.6\n",
    "# model_id优先级高于app_url & boot_file_url，若指定model_id则优先从已有模型中读取参数并进行训练\n",
    "import json\n",
    "training_job_body = {\n",
    "  \"job_name\": \"mxnet-mnist\",\n",
    "  \"job_desc\": \"mxnet-mnist with ModelArts SDK\",\n",
    "  \"config\": {\n",
    "    \"worker_server_num\": 1,\n",
    "#     \"model_id\": 3,\n",
    "    \"app_url\": \"/ma-workflow/mnist/code/\",\n",
    "    \"boot_file_url\": \"/ma-workflow/mnist/code/train_mnist.py\",\n",
    "    \"data_source\": [\n",
    "      {\n",
    "        \"type\": \"obs\",\n",
    "        \"data_url\": \"/ma-workflow/mnist/\"\n",
    "      }\n",
    "    ],\n",
    "    \"train_url\": \"/ma-workflow/mnist/output/\",\n",
    "    \"log_url\": \"/ma-workflow/mnist/log/\",\n",
    "    \"spec_id\": 2,\n",
    "    \"engine_id\": 29\n",
    "  }\n",
    "}\n",
    "\n",
    "trainJobApi = TrainJobApi(maClient)\n",
    "try:\n",
    "    training_job = trainJobApi.create_training_job(project_id=PROJECT_ID, body=training_job_body)\n",
    "    job_id = training_job.job_id\n",
    "    version_id = training_job.version_id\n",
    "except ApiException as e:\n",
    "    resp_obj = json.loads(e.body)\n",
    "    print(e)\n",
    "    if resp_obj['error_code'] == 'ModelArts.0103': # 重名，作业已存在，创建作业版本\n",
    "        # 当前SDK需要先列出job list，再按照job_name查找到job_id，才能创建作业版本\n",
    "        # 删除job也需要job_id\n",
    "        print(\"Let's createa job version, it's a pretty tough task for now, we'll do it later!\")\n",
    "        \n",
    "    \n",
    "        "
   ]
  },
  {
   "cell_type": "markdown",
   "metadata": {},
   "source": [
    "监听训练任务的状态"
   ]
  },
  {
   "cell_type": "code",
   "execution_count": 9,
   "metadata": {},
   "outputs": [
    {
     "ename": "NameError",
     "evalue": "name 'job_id' is not defined",
     "output_type": "error",
     "traceback": [
      "\u001b[1;31m---------------------------------------------------------------------------\u001b[0m",
      "\u001b[1;31mNameError\u001b[0m                                 Traceback (most recent call last)",
      "\u001b[1;32m<ipython-input-9-c0ade6888ce6>\u001b[0m in \u001b[0;36m<module>\u001b[1;34m\u001b[0m\n\u001b[0;32m      6\u001b[0m \u001b[0mcurrent_status\u001b[0m \u001b[1;33m=\u001b[0m \u001b[1;36m0\u001b[0m\u001b[1;33m\u001b[0m\u001b[1;33m\u001b[0m\u001b[0m\n\u001b[0;32m      7\u001b[0m \u001b[1;32mwhile\u001b[0m \u001b[1;32mTrue\u001b[0m\u001b[1;33m:\u001b[0m\u001b[1;33m\u001b[0m\u001b[1;33m\u001b[0m\u001b[0m\n\u001b[1;32m----> 8\u001b[1;33m     \u001b[0minfo\u001b[0m \u001b[1;33m=\u001b[0m \u001b[0mtrainJobApi\u001b[0m\u001b[1;33m.\u001b[0m\u001b[0mview_training_job\u001b[0m\u001b[1;33m(\u001b[0m\u001b[0mproject_id\u001b[0m\u001b[1;33m=\u001b[0m\u001b[0mPROJECT_ID\u001b[0m\u001b[1;33m,\u001b[0m \u001b[0mjob_id\u001b[0m\u001b[1;33m=\u001b[0m\u001b[0mjob_id\u001b[0m\u001b[1;33m,\u001b[0m \u001b[0mversion_id\u001b[0m\u001b[1;33m=\u001b[0m\u001b[0mversion_id\u001b[0m\u001b[1;33m)\u001b[0m\u001b[1;33m\u001b[0m\u001b[1;33m\u001b[0m\u001b[0m\n\u001b[0m\u001b[0;32m      9\u001b[0m \u001b[1;33m\u001b[0m\u001b[0m\n\u001b[0;32m     10\u001b[0m     \u001b[1;32mif\u001b[0m \u001b[0mcurrent_status\u001b[0m \u001b[1;33m==\u001b[0m \u001b[0minfo\u001b[0m\u001b[1;33m.\u001b[0m\u001b[0mstatus\u001b[0m\u001b[1;33m:\u001b[0m\u001b[1;33m\u001b[0m\u001b[1;33m\u001b[0m\u001b[0m\n",
      "\u001b[1;31mNameError\u001b[0m: name 'job_id' is not defined"
     ]
    }
   ],
   "source": [
    "# info = trainJobApi.view_training_job(project_id=PROJECT_ID, job_id=job_id, version_id=version_id)\n",
    "# print(info)\n",
    "from time import sleep\n",
    "elapsed_seconds = 0\n",
    "TEN_MINUTES = 60 * 10  # Make it longer for computation consuming training jobs\n",
    "current_status = 0\n",
    "while True:\n",
    "    info = trainJobApi.view_training_job(project_id=PROJECT_ID, job_id=job_id, version_id=version_id)\n",
    "\n",
    "    if current_status == info.status:\n",
    "        sleep(5)\n",
    "        continue\n",
    "    else:\n",
    "        current_status = info.status\n",
    "    \n",
    "    print(info.status)\n",
    "    if info.status == 1:\n",
    "        print('Job {}@{} initializing'.format(job_id, version_id))  \n",
    "        \n",
    "    elif info.status == 8:\n",
    "        print('Job {}@{} running'.format(job_id, version_id))\n",
    "    elif info.status == 10:\n",
    "        print('Job {}@{} complete'.format(job_id, version_id))\n",
    "        break\n",
    "    elif info.status == 11:\n",
    "        print('Job {}@{} failed'.format(job_id, version_id))\n",
    "        print(info)\n",
    "        break\n",
    "        \n",
    "    sleep(5)\n",
    "    elapsed_seconds += 5\n",
    "    if elapsed_seconds >= TEN_MINUTES:\n",
    "        print('Job {}@{} timeout'.format(job_id, version_id))\n",
    "        break\n",
    "            "
   ]
  },
  {
   "cell_type": "markdown",
   "metadata": {},
   "source": [
    "导入模型，上传config.json和customize_service.py到model目录下"
   ]
  },
  {
   "cell_type": "code",
   "execution_count": 10,
   "metadata": {
    "scrolled": true
   },
   "outputs": [
    {
     "name": "stdout",
     "output_type": "stream",
     "text": [
      "upload config.json for model:\n",
      "{'versionId': 'G0011168E7168443FFFF801211230AD2', 'etag': '\"bd6a5ac6acf304030075497d575669e1\"', 'objectUrl': 'https://ma-workflow.obs.cn-north-1.myhuaweicloud.com/mnist/output/model/config.json'}\n",
      "\n",
      "upload customize_service.py for model:\n",
      "{'versionId': 'G0011168E7168486FFFF800E110247F6', 'etag': '\"f242ba3a83d8127807ca7b2cdfd0fbcb\"', 'objectUrl': 'https://ma-workflow.obs.cn-north-1.myhuaweicloud.com/mnist/output/model/customize_service.py'}\n",
      "\n"
     ]
    }
   ],
   "source": [
    "resp = obsClient.putFile(TARGET_BUCKET, 'mnist/output/model/config.json', file_path='./config.json')\n",
    "print('upload config.json for model:\\n{}\\n'.format(resp.body))\n",
    "if resp.status >= 300:\n",
    "    print('Failed to put file')  \n",
    "\n",
    "resp = obsClient.putFile(TARGET_BUCKET, 'mnist/output/model/customize_service.py', file_path='./customize_service.py')\n",
    "print('upload customize_service.py for model:\\n{}\\n'.format(resp.body))\n",
    "if resp.status >= 300:\n",
    "    print('Failed to put file')  \n",
    "    "
   ]
  },
  {
   "cell_type": "code",
   "execution_count": 30,
   "metadata": {},
   "outputs": [
    {
     "name": "stderr",
     "output_type": "stream",
     "text": [
      "E:\\Dev Tools\\Anaconda3\\envs\\py36\\lib\\site-packages\\urllib3\\connectionpool.py:847: InsecureRequestWarning: Unverified HTTPS request is being made. Adding certificate verification is strongly advised. See: https://urllib3.readthedocs.io/en/latest/advanced-usage.html#ssl-warnings\n",
      "  InsecureRequestWarning)\n"
     ]
    },
    {
     "name": "stdout",
     "output_type": "stream",
     "text": [
      "Get the model_id\n",
      "model_id:8319ccbf-408f-494c-8925-93866727f6c9\n"
     ]
    },
    {
     "name": "stderr",
     "output_type": "stream",
     "text": [
      "E:\\Dev Tools\\Anaconda3\\envs\\py36\\lib\\site-packages\\urllib3\\connectionpool.py:847: InsecureRequestWarning: Unverified HTTPS request is being made. Adding certificate verification is strongly advised. See: https://urllib3.readthedocs.io/en/latest/advanced-usage.html#ssl-warnings\n",
      "  InsecureRequestWarning)\n"
     ]
    }
   ],
   "source": [
    "modelApi = ModelApi(maClient)\n",
    "\n",
    "model_body = {\n",
    "  \"model_name\": \"mxnet-mnist-model\",\n",
    "  \"model_version\": \"0.0.1\",\n",
    "#   source_location到model目录上一层即可\n",
    "  \"source_location\": \"https://ma-workflow.obs.cn-north-1.myhwclouds.com/mnist/output\",\n",
    "#   注释掉的参数为必填，但是从配置文件中读取\n",
    "  \"model_type\": \"MXNet\",\n",
    "  \"model_algorithm\": \"image_classification\",\n",
    "#   \"input_params\": [\n",
    "#     {\n",
    "#       \"url\": \"/object_detection\",\n",
    "#       \"param_name\": \"field0\",\n",
    "#       \"param_type\": \"int\"\n",
    "#     }\n",
    "#   ],\n",
    "#   \"output_params\": [\n",
    "#     {\n",
    "#       \"url\": \"/object_detection\",\n",
    "#       \"param_name\": \"res0\",\n",
    "#       \"param_type\": \"int\"\n",
    "#     }\n",
    "#   ],\n",
    "#   \"dependencies\": [\n",
    "#     {\n",
    "#       \"installer\": \"pip\",\n",
    "#       \"packages\": [\n",
    "#         {\n",
    "#           \"package_name\": \"numpy\",\n",
    "#           \"package_version\": \"1.5.0\",\n",
    "#           \"restraint\": \"ATLEAST\"\n",
    "#         }\n",
    "#       ]\n",
    "#     }\n",
    "#   ]\n",
    "}\n",
    "model_id = None\n",
    "try:\n",
    "    imported_model = modelApi.create_the_model(project_id=PROJECT_ID, body=model_body)\n",
    "    model_id = imported_model.model_id\n",
    "except ApiException as e:\n",
    "    error_code = json.loads(e.body)['error_code']\n",
    "    if error_code == \"ModelArts.3002\":\n",
    "        print(\"Get the model_id\")\n",
    "        model_list = modelApi.get_model_list(project_id=PROJECT_ID)\n",
    "        for model in model_list.models:\n",
    "            if model.model_name == 'mxnet-mnist-model':\n",
    "                model_id = model.model_id\n",
    "                break\n",
    "\n",
    "if model_id == None:\n",
    "    raise(Exception('Cannot find the model ID'))"
   ]
  },
  {
   "cell_type": "code",
   "execution_count": 56,
   "metadata": {},
   "outputs": [
    {
     "name": "stderr",
     "output_type": "stream",
     "text": [
      "E:\\Dev Tools\\Anaconda3\\envs\\py36\\lib\\site-packages\\urllib3\\connectionpool.py:847: InsecureRequestWarning: Unverified HTTPS request is being made. Adding certificate verification is strongly advised. See: https://urllib3.readthedocs.io/en/latest/advanced-usage.html#ssl-warnings\n",
      "  InsecureRequestWarning)\n"
     ]
    }
   ],
   "source": [
    "serviceApi = ServiceApi(maClient)\n",
    "\n",
    "body = {\n",
    "    \"service_name\": \"mxnet-mnist-service\",\n",
    "    \"description\": \"mxnet mnist service\",\n",
    "    \"infer_type\": \"real-time\",\n",
    "    \"config\": [\n",
    "        {\n",
    "            \"model_id\": model_id,\n",
    "            \"weight\": \"100\",\n",
    "            \"specification\": \"modelarts.vm.cpu.2u\",\n",
    "            \"instance_count\": 1,\n",
    "            \"envs\": {\n",
    "                \"input_data_name\": \"images\",\n",
    "                \"input_data_shape\": \"0,1,28,28\",\n",
    "                \"output_data_shape\": \"0,10\"\n",
    "            }\n",
    "        }\n",
    "    ]\n",
    "}\n",
    "service_id = None\n",
    "\n",
    "try:\n",
    "    deployed_service = serviceApi.create_service(project_id=PROJECT_ID, body = body)\n",
    "    service_id = deployed_service.service_id\n",
    "except ApiException as e:\n",
    "    error_code = json.loads(e.body)['error_code']\n",
    "    if error_code == 'ModelArts.3503':\n",
    "        service_list = serviceApi.get_service_list(project_id=PROJECT_ID)\n",
    "        for svc in service_list.services:\n",
    "            if svc.service_name == 'mxnet-mnist-service':\n",
    "                service_id = svc.service_id\n",
    "                break\n",
    "\n",
    "if service_id == None:\n",
    "    raise(Exception('service id not found!'))\n",
    "    \n",
    "\n"
   ]
  },
  {
   "cell_type": "code",
   "execution_count": 75,
   "metadata": {
    "scrolled": true
   },
   "outputs": [
    {
     "name": "stderr",
     "output_type": "stream",
     "text": [
      "E:\\Dev Tools\\Anaconda3\\envs\\py36\\lib\\site-packages\\urllib3\\connectionpool.py:847: InsecureRequestWarning: Unverified HTTPS request is being made. Adding certificate verification is strongly advised. See: https://urllib3.readthedocs.io/en/latest/advanced-usage.html#ssl-warnings\n",
      "  InsecureRequestWarning)\n"
     ]
    },
    {
     "name": "stdout",
     "output_type": "stream",
     "text": [
      "service status: running\n"
     ]
    }
   ],
   "source": [
    "service_status = ''\n",
    "info = None\n",
    "# 服务状态，取值为running/deploying/concerning/failed/stopped/finished。\n",
    "elapsed_seconds = 0\n",
    "while True:\n",
    "    info = serviceApi.get_service_info(project_id=PROJECT_ID, service_id=service_id)\n",
    "    if service_status == info.status:\n",
    "        sleep(5)\n",
    "        continue\n",
    "    else:\n",
    "        service_status = info.status\n",
    "    print('service status: {}'.format(service_status))\n",
    "    \n",
    "    if service_status == 'failed' or service_status == 'stopped' or service_status == 'finished' or service_status == 'running':\n",
    "        break\n",
    "    sleep(5)\n",
    "    elapsed_seconds += 5\n",
    "    if elapsed_seconds >= TEN_MINUTES:\n",
    "        raise(Exception('timeout when deploying service {}'.format(service_id)))\n",
    "        break\n",
    "\n",
    "if service_status != 'running':\n",
    "    raise(Exception('Invalid service status: ' + service_status))\n"
   ]
  },
  {
   "cell_type": "code",
   "execution_count": 74,
   "metadata": {},
   "outputs": [
    {
     "name": "stdout",
     "output_type": "stream",
     "text": [
      "Looking in indexes: https://pypi.tuna.tsinghua.edu.cn/simple\n",
      "Requirement already satisfied: Pillow in e:\\dev tools\\anaconda3\\envs\\py36\\lib\\site-packages (5.4.1)\n"
     ]
    },
    {
     "ename": "FileNotFoundError",
     "evalue": "[Errno 2] No such file or directory: './validation_images0.jpg'",
     "output_type": "error",
     "traceback": [
      "\u001b[1;31m---------------------------------------------------------------------------\u001b[0m",
      "\u001b[1;31mFileNotFoundError\u001b[0m                         Traceback (most recent call last)",
      "\u001b[1;32m<ipython-input-74-6aa816ec63a5>\u001b[0m in \u001b[0;36m<module>\u001b[1;34m\u001b[0m\n\u001b[0;32m      3\u001b[0m \u001b[1;33m\u001b[0m\u001b[0m\n\u001b[0;32m      4\u001b[0m \u001b[1;32mfor\u001b[0m \u001b[0mi\u001b[0m \u001b[1;32min\u001b[0m \u001b[0mrange\u001b[0m \u001b[1;33m(\u001b[0m\u001b[1;36m0\u001b[0m\u001b[1;33m,\u001b[0m \u001b[1;36m10\u001b[0m\u001b[1;33m)\u001b[0m\u001b[1;33m:\u001b[0m\u001b[1;33m\u001b[0m\u001b[1;33m\u001b[0m\u001b[0m\n\u001b[1;32m----> 5\u001b[1;33m     \u001b[0mgenerateValidationImage\u001b[0m\u001b[1;33m(\u001b[0m\u001b[0mstr\u001b[0m\u001b[1;33m(\u001b[0m\u001b[0mi\u001b[0m\u001b[1;33m)\u001b[0m\u001b[1;33m)\u001b[0m\u001b[1;33m\u001b[0m\u001b[1;33m\u001b[0m\u001b[0m\n\u001b[0m",
      "\u001b[1;32mE:\\projects\\py\\modelarts-workflow\\make_your_mnist.py\u001b[0m in \u001b[0;36mgenerateValidationImage\u001b[1;34m(digit)\u001b[0m\n\u001b[0;32m     13\u001b[0m     \u001b[0mprint\u001b[0m\u001b[1;33m(\u001b[0m\u001b[0msr\u001b[0m\u001b[1;33m)\u001b[0m\u001b[1;33m\u001b[0m\u001b[1;33m\u001b[0m\u001b[0m\n\u001b[0;32m     14\u001b[0m     \u001b[1;31m# target pic\u001b[0m\u001b[1;33m\u001b[0m\u001b[1;33m\u001b[0m\u001b[1;33m\u001b[0m\u001b[0m\n\u001b[1;32m---> 15\u001b[1;33m \u001b[1;31m#     tg = '{}/{}.test.jpg'.format(cache, digit)\u001b[0m\u001b[1;33m\u001b[0m\u001b[1;33m\u001b[0m\u001b[1;33m\u001b[0m\u001b[0m\n\u001b[0m\u001b[0;32m     16\u001b[0m \u001b[1;31m#     I = Image.open(sr)\u001b[0m\u001b[1;33m\u001b[0m\u001b[1;33m\u001b[0m\u001b[1;33m\u001b[0m\u001b[0m\n\u001b[0;32m     17\u001b[0m \u001b[1;31m#     # resize to 28 * 28\u001b[0m\u001b[1;33m\u001b[0m\u001b[1;33m\u001b[0m\u001b[1;33m\u001b[0m\u001b[0m\n",
      "\u001b[1;32mE:\\Dev Tools\\Anaconda3\\envs\\py36\\lib\\site-packages\\PIL\\Image.py\u001b[0m in \u001b[0;36mopen\u001b[1;34m(fp, mode)\u001b[0m\n\u001b[0;32m   2632\u001b[0m \u001b[1;33m\u001b[0m\u001b[0m\n\u001b[0;32m   2633\u001b[0m     \u001b[1;32mif\u001b[0m \u001b[0mfilename\u001b[0m\u001b[1;33m:\u001b[0m\u001b[1;33m\u001b[0m\u001b[1;33m\u001b[0m\u001b[0m\n\u001b[1;32m-> 2634\u001b[1;33m         \u001b[0mfp\u001b[0m \u001b[1;33m=\u001b[0m \u001b[0mbuiltins\u001b[0m\u001b[1;33m.\u001b[0m\u001b[0mopen\u001b[0m\u001b[1;33m(\u001b[0m\u001b[0mfilename\u001b[0m\u001b[1;33m,\u001b[0m \u001b[1;34m\"rb\"\u001b[0m\u001b[1;33m)\u001b[0m\u001b[1;33m\u001b[0m\u001b[1;33m\u001b[0m\u001b[0m\n\u001b[0m\u001b[0;32m   2635\u001b[0m         \u001b[0mexclusive_fp\u001b[0m \u001b[1;33m=\u001b[0m \u001b[1;32mTrue\u001b[0m\u001b[1;33m\u001b[0m\u001b[1;33m\u001b[0m\u001b[0m\n\u001b[0;32m   2636\u001b[0m \u001b[1;33m\u001b[0m\u001b[0m\n",
      "\u001b[1;31mFileNotFoundError\u001b[0m: [Errno 2] No such file or directory: './validation_images0.jpg'"
     ]
    }
   ],
   "source": [
    "# !pip install Pillow\n",
    "# from make_your_mnist import generateValidationImage\n",
    "\n",
    "# for i in range (0, 10):\n",
    "#     generateValidationImage(str(i))"
   ]
  },
  {
   "cell_type": "code",
   "execution_count": 76,
   "metadata": {},
   "outputs": [
    {
     "name": "stdout",
     "output_type": "stream",
     "text": [
      "{'access_address': 'https://84604aaeecc9487aa252b8c9c7db8b10.apigw.cn-north-1.huaweicloud.com/v1/infers/dafb25e2-db6d-4fc5-a73a-6e22bd3816a3',\n",
      " 'config': [{'envs': {'input_data_name': 'images',\n",
      "                      'input_data_shape': '0,1,28,28',\n",
      "                      'output_data_shape': '0,10'},\n",
      "             'instance_count': 1,\n",
      "             'model_id': '8319ccbf-408f-494c-8925-93866727f6c9',\n",
      "             'model_name': 'mxnet-mnist-model',\n",
      "             'model_version': '0.0.1',\n",
      "             'scaling': False,\n",
      "             'source_type': None,\n",
      "             'specification': 'modelarts.vm.cpu.2u',\n",
      "             'status': 'ready',\n",
      "             'weight': '100'}],\n",
      " 'description': 'mxnet mnist service',\n",
      " 'error_msg': None,\n",
      " 'failed_times': 0,\n",
      " 'infer_type': 'real-time',\n",
      " 'invocation_times': 3,\n",
      " 'is_shared': False,\n",
      " 'owner': '99d3096355bc4c98a82093283c41ee5a',\n",
      " 'progress': 100,\n",
      " 'project': 'cf1bed56cdc045b196278cace96852a8',\n",
      " 'publish_at': '1550068517915',\n",
      " 'security_group_id': None,\n",
      " 'service_id': 'dafb25e2-db6d-4fc5-a73a-6e22bd3816a3',\n",
      " 'service_name': 'mxnet-mnist-service',\n",
      " 'status': 'running',\n",
      " 'subnet_network_id': None,\n",
      " 'tenant': 'ebf557e9dcf9490cb212468e47f2c201',\n",
      " 'vpc_id': None}\n"
     ]
    }
   ],
   "source": [
    "print(info)"
   ]
  },
  {
   "cell_type": "code",
   "execution_count": 113,
   "metadata": {},
   "outputs": [
    {
     "name": "stdout",
     "output_type": "stream",
     "text": [
      "Looking in indexes: https://pypi.tuna.tsinghua.edu.cn/simple\n",
      "Requirement already satisfied: requests in e:\\dev tools\\anaconda3\\envs\\py36\\lib\\site-packages (2.21.0)\n",
      "Requirement already satisfied: certifi>=2017.4.17 in e:\\dev tools\\anaconda3\\envs\\py36\\lib\\site-packages (from requests) (2018.11.29)\n",
      "Requirement already satisfied: chardet<3.1.0,>=3.0.2 in e:\\dev tools\\anaconda3\\envs\\py36\\lib\\site-packages (from requests) (3.0.4)\n",
      "Requirement already satisfied: idna<2.9,>=2.5 in e:\\dev tools\\anaconda3\\envs\\py36\\lib\\site-packages (from requests) (2.8)\n",
      "Requirement already satisfied: urllib3<1.25,>=1.21.1 in e:\\dev tools\\anaconda3\\envs\\py36\\lib\\site-packages (from requests) (1.24.1)\n"
     ]
    }
   ],
   "source": [
    "!pip install requests\n",
    "import requests\n",
    "xauth_body = { \n",
    "  \"auth\": { \n",
    "    \"identity\": { \n",
    "      \"methods\": [ \n",
    "        \"password\" \n",
    "      ], \n",
    "      \"password\": { \n",
    "        \"user\": { \n",
    "          \"name\": \"crystaldust\", \n",
    "          \"password\": \"containerops123\", \n",
    "          \"domain\": { \n",
    "            \"name\": \"crystaldust\" \n",
    "          } \n",
    "        } \n",
    "      } \n",
    "    }, \n",
    "    \"scope\": { \n",
    "      \"project\": { \n",
    "        \"name\": \"cn-north-1\"\n",
    "      } \n",
    "    } \n",
    "  } \n",
    "}\n",
    "with open('C:/Users/lance/.modelarts/config.json') as f:\n",
    "#     print(f.read())\n",
    "    obj = json.load(f)\n",
    "    \n",
    "    \n",
    "    username = obj['users'][0]['user']['username']\n",
    "    password = obj['users'][0]['user']['password']\n",
    "    \n",
    "    xauth_body['auth']['identity']['password']['user']['name'] = username\n",
    "    xauth_body['auth']['identity']['password']['user']['password'] = password\n",
    "    xauth_body['auth']['identity']['password']['user']['domain']['name'] = username\n",
    "\n",
    "jsonbody = json.dumps(xauth_body)\n",
    "\n",
    "resp = requests.post('https://iam.cn-north-1.myhuaweicloud.com/v3/auth/tokens', data=jsonbody)\n",
    "token = resp.headers['X-Subject-Token']\n",
    "if token == None:\n",
    "    raise(Exception('Failed to get X-Subject-Token'))"
   ]
  },
  {
   "cell_type": "code",
   "execution_count": 118,
   "metadata": {},
   "outputs": [
    {
     "name": "stdout",
     "output_type": "stream",
     "text": [
      "[{'class': 0, 'probability': 1.0}, {'class': 1, 'probability': 0.0}, {'class': 2, 'probability': 0.0}, {'class': 3, 'probability': 0.0}, {'class': 4, 'probability': 0.0}]\n"
     ]
    }
   ],
   "source": [
    "files = {'images': open('G:/chrome-downloads/0.jpg', 'rb')}\n",
    "headers = {'X-Auth-Token': token}\n",
    "resp = requests.post(info.access_address, files=files, headers=headers)\n",
    "print(resp.json())"
   ]
  },
  {
   "cell_type": "code",
   "execution_count": null,
   "metadata": {},
   "outputs": [],
   "source": []
  }
 ],
 "metadata": {
  "kernelspec": {
   "display_name": "Python 3",
   "language": "python",
   "name": "python3"
  },
  "language_info": {
   "codemirror_mode": {
    "name": "ipython",
    "version": 3
   },
   "file_extension": ".py",
   "mimetype": "text/x-python",
   "name": "python",
   "nbconvert_exporter": "python",
   "pygments_lexer": "ipython3",
   "version": "3.6.8"
  }
 },
 "nbformat": 4,
 "nbformat_minor": 2
}
